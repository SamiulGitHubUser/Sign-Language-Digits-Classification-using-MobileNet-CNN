{
 "cells": [
  {
   "cell_type": "markdown",
   "metadata": {},
   "source": [
    "# Sign Language Digits Classification\n",
    "A project of Turkey Ankara Ayrancı Anadolu High School's Sign Language Digits Predition with image Dataset"
   ]
  },
  {
   "cell_type": "markdown",
   "metadata": {},
   "source": [
    "### Image preparation \n",
    "* 10 classes (digits 0-9)\n",
    "* Class data:\n",
    "        * class 0: 205 images\n",
    "        * class 1: 206 images\n",
    "        * class 2: 206 images\n",
    "        * class 3: 206 images\n",
    "        * class 4: 207 images\n",
    "        * class 5: 207 images\n",
    "        * class 6: 207 images\n",
    "        * class 7: 206 images\n",
    "        * class 8: 208 images\n",
    "        * class 9: 204 images"
   ]
  },
  {
   "cell_type": "markdown",
   "metadata": {},
   "source": [
    "## Import Library"
   ]
  },
  {
   "cell_type": "code",
   "execution_count": 1,
   "metadata": {},
   "outputs": [
    {
     "name": "stderr",
     "output_type": "stream",
     "text": [
      "Using TensorFlow backend.\n"
     ]
    }
   ],
   "source": [
    "import numpy as np\n",
    "import matplotlib.pyplot as plt\n",
    "import seaborn as sns\n",
    "import pandas as pd\n",
    "import itertools\n",
    "import os\n",
    "\n",
    "import keras\n",
    "from keras import backend as k\n",
    "from keras.models import Model\n",
    "from keras.layers import Activation\n",
    "from keras.layers.core import Dense, Flatten\n",
    "from keras.optimizers import Adam\n",
    "from keras.metrics import categorical_crossentropy\n",
    "from keras.preprocessing.image import ImageDataGenerator\n",
    "from keras.layers.normalization import BatchNormalization\n",
    "from keras.layers.convolutional import *\n",
    "from sklearn.metrics import confusion_matrix\n",
    "from matplotlib import pyplot as plt\n",
    "from matplotlib.image import imread\n",
    "\n",
    "%matplotlib inline"
   ]
  },
  {
   "cell_type": "markdown",
   "metadata": {},
   "source": [
    "## Create train/test/valid folder"
   ]
  },
  {
   "cell_type": "code",
   "execution_count": 67,
   "metadata": {},
   "outputs": [
    {
     "name": "stdout",
     "output_type": "stream",
     "text": [
      "C:\\Users\\SAM\\Desktop\\AI Practice Project\\CNN With Keras&TF\\Sign Language Digits Classification\\Datasets\n"
     ]
    }
   ],
   "source": [
    "# Save file to Sign Language Digits Datasets directory\n",
    "# Create train, valid, test folder in Sign Language Digits Datasets\n",
    "%cd Datasets\n",
    "%mkdir train\n",
    "%mkdir valid\n",
    "%mkdir test"
   ]
  },
  {
   "cell_type": "code",
   "execution_count": 21,
   "metadata": {},
   "outputs": [],
   "source": [
    "#Move all class directories with images into train\n",
    "#%mv 0/ 1/ 2/ 3/ 4/ 5/ 6/ 7/ 8/ 9/ train/"
   ]
  },
  {
   "cell_type": "code",
   "execution_count": 68,
   "metadata": {
    "scrolled": true
   },
   "outputs": [
    {
     "name": "stdout",
     "output_type": "stream",
     "text": [
      "C:\\Users\\SAM\\Desktop\\AI Practice Project\\CNN With Keras&TF\\Sign Language Digits Classification\\Datasets\\valid\n",
      "C:\\Users\\SAM\\Desktop\\AI Practice Project\\CNN With Keras&TF\\Sign Language Digits Classification\\Datasets\\test\n"
     ]
    }
   ],
   "source": [
    "# Make class directories for valid and test data sets\n",
    "%cd valid\n",
    "%mkdir 0\n",
    "%mkdir 1\n",
    "%mkdir 2\n",
    "%mkdir 3\n",
    "%mkdir 4\n",
    "%mkdir 5\n",
    "%mkdir 6\n",
    "%mkdir 7\n",
    "%mkdir 8\n",
    "%mkdir 9\n",
    "\n",
    "%cd ../test\n",
    "%mkdir 0\n",
    "%mkdir 1\n",
    "%mkdir 2\n",
    "%mkdir 3\n",
    "%mkdir 4\n",
    "%mkdir 5\n",
    "%mkdir 6\n",
    "%mkdir 7\n",
    "%mkdir 8\n",
    "%mkdir 9"
   ]
  },
  {
   "cell_type": "markdown",
   "metadata": {},
   "source": [
    "**In the next cell, Using bash, loop throuh each class directory in /train and randomly move 30 images from each class into the corresponding class directory in /valid and 5 images from each class into the corresponding class directory in /test**"
   ]
  },
  {
   "cell_type": "code",
   "execution_count": 72,
   "metadata": {},
   "outputs": [
    {
     "data": {
      "text/plain": [
       "['test', 'train', 'valid']"
      ]
     },
     "execution_count": 72,
     "metadata": {},
     "output_type": "execute_result"
    }
   ],
   "source": [
    "os.listdir()"
   ]
  },
  {
   "cell_type": "code",
   "execution_count": 73,
   "metadata": {},
   "outputs": [],
   "source": [
    "%%bash\n",
    "cd train\n",
    "for ((i=0; i<=9; i++)); do\n",
    "    a=$(find $i/ -type f | shuf -n 30)\n",
    "    mv $a ../valid/$i/\n",
    "    \n",
    "    b=$(find $i/ -type f | shuf -n 5)\n",
    "    mv $b ../test/$i/\n",
    "done"
   ]
  },
  {
   "cell_type": "code",
   "execution_count": 75,
   "metadata": {},
   "outputs": [
    {
     "name": "stdout",
     "output_type": "stream",
     "text": [
      "C:\\Users\\SAM\\Desktop\\AI Practice Project\\CNN With Keras&TF\\Sign Language Digits Classification\n"
     ]
    },
    {
     "data": {
      "text/plain": [
       "['.ipynb_checkpoints',\n",
       " 'Datasets',\n",
       " 'Examples',\n",
       " 'Sign language digits classifier.ipynb']"
      ]
     },
     "execution_count": 75,
     "metadata": {},
     "output_type": "execute_result"
    }
   ],
   "source": [
    "#Move back into current notebook directory\n",
    "%cd ..\n",
    "os.listdir()"
   ]
  },
  {
   "cell_type": "markdown",
   "metadata": {},
   "source": [
    "## Explore datasets folder"
   ]
  },
  {
   "cell_type": "code",
   "execution_count": 77,
   "metadata": {},
   "outputs": [
    {
     "data": {
      "text/plain": [
       "['test', 'train', 'valid']"
      ]
     },
     "execution_count": 77,
     "metadata": {},
     "output_type": "execute_result"
    }
   ],
   "source": [
    "os.listdir('Datasets')"
   ]
  },
  {
   "cell_type": "code",
   "execution_count": 79,
   "metadata": {},
   "outputs": [
    {
     "data": {
      "text/plain": [
       "'IMG_1122.JPG'"
      ]
     },
     "execution_count": 79,
     "metadata": {},
     "output_type": "execute_result"
    }
   ],
   "source": [
    "os.listdir('Datasets/train/4')[0]"
   ]
  },
  {
   "cell_type": "code",
   "execution_count": 78,
   "metadata": {},
   "outputs": [
    {
     "data": {
      "text/plain": [
       "'Datasets/train/4/IMG_1122.JPG'"
      ]
     },
     "execution_count": 78,
     "metadata": {},
     "output_type": "execute_result"
    }
   ],
   "source": [
    "image_path = 'Datasets/train/4/IMG_1122.JPG'\n",
    "image_path"
   ]
  },
  {
   "cell_type": "code",
   "execution_count": 80,
   "metadata": {},
   "outputs": [
    {
     "data": {
      "text/plain": [
       "<matplotlib.image.AxesImage at 0x18498922188>"
      ]
     },
     "execution_count": 80,
     "metadata": {},
     "output_type": "execute_result"
    },
    {
     "data": {
      "image/png": "[encoded data removed]",
      "text/plain": [
       "<Figure size 432x288 with 1 Axes>"
      ]
     },
     "metadata": {
      "needs_background": "light"
     },
     "output_type": "display_data"
    }
   ],
   "source": [
    "image = plt.imread(image_path)\n",
    "plt.imshow(image)"
   ]
  },
  {
   "cell_type": "code",
   "execution_count": 87,
   "metadata": {},
   "outputs": [
    {
     "name": "stdout",
     "output_type": "stream",
     "text": [
      "['test', 'train', 'valid']\n"
     ]
    }
   ],
   "source": [
    "print(os.listdir('Datasets'))"
   ]
  },
  {
   "cell_type": "markdown",
   "metadata": {},
   "source": [
    "### Set path info"
   ]
  },
  {
   "cell_type": "code",
   "execution_count": 88,
   "metadata": {},
   "outputs": [],
   "source": [
    "train_path = 'Datasets/train' \n",
    "valid_path = 'Datasets/valid'\n",
    "test_path = 'Datasets/test'"
   ]
  },
  {
   "cell_type": "code",
   "execution_count": 89,
   "metadata": {},
   "outputs": [
    {
     "name": "stdout",
     "output_type": "stream",
     "text": [
      "Found 1712 images belonging to 10 classes.\n",
      "Found 300 images belonging to 10 classes.\n",
      "Found 50 images belonging to 10 classes.\n"
     ]
    }
   ],
   "source": [
    "train_batches = ImageDataGenerator(preprocessing_function=keras.applications.mobilenet.preprocess_input).flow_from_directory(\n",
    "    train_path, target_size=(224,224), batch_size=10)\n",
    "\n",
    "valid_batches = ImageDataGenerator(preprocessing_function=keras.applications.mobilenet.preprocess_input).flow_from_directory(\n",
    "    valid_path, target_size=(224,224), batch_size=10)\n",
    "\n",
    "test_batches = ImageDataGenerator(preprocessing_function=keras.applications.mobilenet.preprocess_input).flow_from_directory(\n",
    "    test_path, \n",
    "    target_size=(224,224), \n",
    "    batch_size=10, \n",
    "    shuffle=False)"
   ]
  },
  {
   "cell_type": "markdown",
   "metadata": {},
   "source": [
    "## MobileNet from keras"
   ]
  },
  {
   "cell_type": "code",
   "execution_count": 81,
   "metadata": {},
   "outputs": [],
   "source": [
    "mobile = keras.applications.mobilenet.MobileNet()"
   ]
  },
  {
   "cell_type": "code",
   "execution_count": 91,
   "metadata": {},
   "outputs": [],
   "source": [
    "#mobile.summary()"
   ]
  },
  {
   "cell_type": "code",
   "execution_count": 93,
   "metadata": {},
   "outputs": [],
   "source": [
    "x = mobile.layers[-6].output\n",
    "predictions = Dense(10, activation='softmax')(x)"
   ]
  },
  {
   "cell_type": "code",
   "execution_count": 96,
   "metadata": {},
   "outputs": [],
   "source": [
    "model = Model(inputs=mobile.input, outputs=predictions)"
   ]
  },
  {
   "cell_type": "code",
   "execution_count": 98,
   "metadata": {},
   "outputs": [
    {
     "name": "stdout",
     "output_type": "stream",
     "text": [
      "Model: \"model_3\"\n",
      "_________________________________________________________________\n",
      "Layer (type)                 Output Shape              Param #   \n",
      "=================================================================\n",
      "input_1 (InputLayer)         (None, 224, 224, 3)       0         \n",
      "_________________________________________________________________\n",
      "conv1_pad (ZeroPadding2D)    (None, 225, 225, 3)       0         \n",
      "_________________________________________________________________\n",
      "conv1 (Conv2D)               (None, 112, 112, 32)      864       \n",
      "_________________________________________________________________\n",
      "conv1_bn (BatchNormalization (None, 112, 112, 32)      128       \n",
      "_________________________________________________________________\n",
      "conv1_relu (ReLU)            (None, 112, 112, 32)      0         \n",
      "_________________________________________________________________\n",
      "conv_dw_1 (DepthwiseConv2D)  (None, 112, 112, 32)      288       \n",
      "_________________________________________________________________\n",
      "conv_dw_1_bn (BatchNormaliza (None, 112, 112, 32)      128       \n",
      "_________________________________________________________________\n",
      "conv_dw_1_relu (ReLU)        (None, 112, 112, 32)      0         \n",
      "_________________________________________________________________\n",
      "conv_pw_1 (Conv2D)           (None, 112, 112, 64)      2048      \n",
      "_________________________________________________________________\n",
      "conv_pw_1_bn (BatchNormaliza (None, 112, 112, 64)      256       \n",
      "_________________________________________________________________\n",
      "conv_pw_1_relu (ReLU)        (None, 112, 112, 64)      0         \n",
      "_________________________________________________________________\n",
      "conv_pad_2 (ZeroPadding2D)   (None, 113, 113, 64)      0         \n",
      "_________________________________________________________________\n",
      "conv_dw_2 (DepthwiseConv2D)  (None, 56, 56, 64)        576       \n",
      "_________________________________________________________________\n",
      "conv_dw_2_bn (BatchNormaliza (None, 56, 56, 64)        256       \n",
      "_________________________________________________________________\n",
      "conv_dw_2_relu (ReLU)        (None, 56, 56, 64)        0         \n",
      "_________________________________________________________________\n",
      "conv_pw_2 (Conv2D)           (None, 56, 56, 128)       8192      \n",
      "_________________________________________________________________\n",
      "conv_pw_2_bn (BatchNormaliza (None, 56, 56, 128)       512       \n",
      "_________________________________________________________________\n",
      "conv_pw_2_relu (ReLU)        (None, 56, 56, 128)       0         \n",
      "_________________________________________________________________\n",
      "conv_dw_3 (DepthwiseConv2D)  (None, 56, 56, 128)       1152      \n",
      "_________________________________________________________________\n",
      "conv_dw_3_bn (BatchNormaliza (None, 56, 56, 128)       512       \n",
      "_________________________________________________________________\n",
      "conv_dw_3_relu (ReLU)        (None, 56, 56, 128)       0         \n",
      "_________________________________________________________________\n",
      "conv_pw_3 (Conv2D)           (None, 56, 56, 128)       16384     \n",
      "_________________________________________________________________\n",
      "conv_pw_3_bn (BatchNormaliza (None, 56, 56, 128)       512       \n",
      "_________________________________________________________________\n",
      "conv_pw_3_relu (ReLU)        (None, 56, 56, 128)       0         \n",
      "_________________________________________________________________\n",
      "conv_pad_4 (ZeroPadding2D)   (None, 57, 57, 128)       0         \n",
      "_________________________________________________________________\n",
      "conv_dw_4 (DepthwiseConv2D)  (None, 28, 28, 128)       1152      \n",
      "_________________________________________________________________\n",
      "conv_dw_4_bn (BatchNormaliza (None, 28, 28, 128)       512       \n",
      "_________________________________________________________________\n",
      "conv_dw_4_relu (ReLU)        (None, 28, 28, 128)       0         \n",
      "_________________________________________________________________\n",
      "conv_pw_4 (Conv2D)           (None, 28, 28, 256)       32768     \n",
      "_________________________________________________________________\n",
      "conv_pw_4_bn (BatchNormaliza (None, 28, 28, 256)       1024      \n",
      "_________________________________________________________________\n",
      "conv_pw_4_relu (ReLU)        (None, 28, 28, 256)       0         \n",
      "_________________________________________________________________\n",
      "conv_dw_5 (DepthwiseConv2D)  (None, 28, 28, 256)       2304      \n",
      "_________________________________________________________________\n",
      "conv_dw_5_bn (BatchNormaliza (None, 28, 28, 256)       1024      \n",
      "_________________________________________________________________\n",
      "conv_dw_5_relu (ReLU)        (None, 28, 28, 256)       0         \n",
      "_________________________________________________________________\n",
      "conv_pw_5 (Conv2D)           (None, 28, 28, 256)       65536     \n",
      "_________________________________________________________________\n",
      "conv_pw_5_bn (BatchNormaliza (None, 28, 28, 256)       1024      \n",
      "_________________________________________________________________\n",
      "conv_pw_5_relu (ReLU)        (None, 28, 28, 256)       0         \n",
      "_________________________________________________________________\n",
      "conv_pad_6 (ZeroPadding2D)   (None, 29, 29, 256)       0         \n",
      "_________________________________________________________________\n",
      "conv_dw_6 (DepthwiseConv2D)  (None, 14, 14, 256)       2304      \n",
      "_________________________________________________________________\n",
      "conv_dw_6_bn (BatchNormaliza (None, 14, 14, 256)       1024      \n",
      "_________________________________________________________________\n",
      "conv_dw_6_relu (ReLU)        (None, 14, 14, 256)       0         \n",
      "_________________________________________________________________\n",
      "conv_pw_6 (Conv2D)           (None, 14, 14, 512)       131072    \n",
      "_________________________________________________________________\n",
      "conv_pw_6_bn (BatchNormaliza (None, 14, 14, 512)       2048      \n",
      "_________________________________________________________________\n",
      "conv_pw_6_relu (ReLU)        (None, 14, 14, 512)       0         \n",
      "_________________________________________________________________\n",
      "conv_dw_7 (DepthwiseConv2D)  (None, 14, 14, 512)       4608      \n",
      "_________________________________________________________________\n",
      "conv_dw_7_bn (BatchNormaliza (None, 14, 14, 512)       2048      \n",
      "_________________________________________________________________\n",
      "conv_dw_7_relu (ReLU)        (None, 14, 14, 512)       0         \n",
      "_________________________________________________________________\n",
      "conv_pw_7 (Conv2D)           (None, 14, 14, 512)       262144    \n",
      "_________________________________________________________________\n",
      "conv_pw_7_bn (BatchNormaliza (None, 14, 14, 512)       2048      \n",
      "_________________________________________________________________\n",
      "conv_pw_7_relu (ReLU)        (None, 14, 14, 512)       0         \n",
      "_________________________________________________________________\n",
      "conv_dw_8 (DepthwiseConv2D)  (None, 14, 14, 512)       4608      \n",
      "_________________________________________________________________\n",
      "conv_dw_8_bn (BatchNormaliza (None, 14, 14, 512)       2048      \n",
      "_________________________________________________________________\n",
      "conv_dw_8_relu (ReLU)        (None, 14, 14, 512)       0         \n",
      "_________________________________________________________________\n",
      "conv_pw_8 (Conv2D)           (None, 14, 14, 512)       262144    \n",
      "_________________________________________________________________\n",
      "conv_pw_8_bn (BatchNormaliza (None, 14, 14, 512)       2048      \n",
      "_________________________________________________________________\n",
      "conv_pw_8_relu (ReLU)        (None, 14, 14, 512)       0         \n",
      "_________________________________________________________________\n",
      "conv_dw_9 (DepthwiseConv2D)  (None, 14, 14, 512)       4608      \n",
      "_________________________________________________________________\n",
      "conv_dw_9_bn (BatchNormaliza (None, 14, 14, 512)       2048      \n",
      "_________________________________________________________________\n",
      "conv_dw_9_relu (ReLU)        (None, 14, 14, 512)       0         \n",
      "_________________________________________________________________\n",
      "conv_pw_9 (Conv2D)           (None, 14, 14, 512)       262144    \n",
      "_________________________________________________________________\n",
      "conv_pw_9_bn (BatchNormaliza (None, 14, 14, 512)       2048      \n",
      "_________________________________________________________________\n",
      "conv_pw_9_relu (ReLU)        (None, 14, 14, 512)       0         \n",
      "_________________________________________________________________\n",
      "conv_dw_10 (DepthwiseConv2D) (None, 14, 14, 512)       4608      \n",
      "_________________________________________________________________\n",
      "conv_dw_10_bn (BatchNormaliz (None, 14, 14, 512)       2048      \n",
      "_________________________________________________________________\n",
      "conv_dw_10_relu (ReLU)       (None, 14, 14, 512)       0         \n",
      "_________________________________________________________________\n",
      "conv_pw_10 (Conv2D)          (None, 14, 14, 512)       262144    \n",
      "_________________________________________________________________\n",
      "conv_pw_10_bn (BatchNormaliz (None, 14, 14, 512)       2048      \n",
      "_________________________________________________________________\n",
      "conv_pw_10_relu (ReLU)       (None, 14, 14, 512)       0         \n",
      "_________________________________________________________________\n",
      "conv_dw_11 (DepthwiseConv2D) (None, 14, 14, 512)       4608      \n",
      "_________________________________________________________________\n",
      "conv_dw_11_bn (BatchNormaliz (None, 14, 14, 512)       2048      \n",
      "_________________________________________________________________\n",
      "conv_dw_11_relu (ReLU)       (None, 14, 14, 512)       0         \n",
      "_________________________________________________________________\n",
      "conv_pw_11 (Conv2D)          (None, 14, 14, 512)       262144    \n",
      "_________________________________________________________________\n",
      "conv_pw_11_bn (BatchNormaliz (None, 14, 14, 512)       2048      \n",
      "_________________________________________________________________\n",
      "conv_pw_11_relu (ReLU)       (None, 14, 14, 512)       0         \n",
      "_________________________________________________________________\n",
      "conv_pad_12 (ZeroPadding2D)  (None, 15, 15, 512)       0         \n",
      "_________________________________________________________________\n",
      "conv_dw_12 (DepthwiseConv2D) (None, 7, 7, 512)         4608      \n",
      "_________________________________________________________________\n",
      "conv_dw_12_bn (BatchNormaliz (None, 7, 7, 512)         2048      \n",
      "_________________________________________________________________\n",
      "conv_dw_12_relu (ReLU)       (None, 7, 7, 512)         0         \n",
      "_________________________________________________________________\n",
      "conv_pw_12 (Conv2D)          (None, 7, 7, 1024)        524288    \n",
      "_________________________________________________________________\n",
      "conv_pw_12_bn (BatchNormaliz (None, 7, 7, 1024)        4096      \n",
      "_________________________________________________________________\n",
      "conv_pw_12_relu (ReLU)       (None, 7, 7, 1024)        0         \n",
      "_________________________________________________________________\n",
      "conv_dw_13 (DepthwiseConv2D) (None, 7, 7, 1024)        9216      \n",
      "_________________________________________________________________\n",
      "conv_dw_13_bn (BatchNormaliz (None, 7, 7, 1024)        4096      \n",
      "_________________________________________________________________\n",
      "conv_dw_13_relu (ReLU)       (None, 7, 7, 1024)        0         \n",
      "_________________________________________________________________\n",
      "conv_pw_13 (Conv2D)          (None, 7, 7, 1024)        1048576   \n",
      "_________________________________________________________________\n",
      "conv_pw_13_bn (BatchNormaliz (None, 7, 7, 1024)        4096      \n",
      "_________________________________________________________________\n",
      "conv_pw_13_relu (ReLU)       (None, 7, 7, 1024)        0         \n",
      "_________________________________________________________________\n",
      "global_average_pooling2d_1 ( (None, 1024)              0         \n",
      "_________________________________________________________________\n",
      "dense_1 (Dense)              (None, 10)                10250     \n",
      "=================================================================\n",
      "Total params: 3,239,114\n",
      "Trainable params: 3,217,226\n",
      "Non-trainable params: 21,888\n",
      "_________________________________________________________________\n"
     ]
    }
   ],
   "source": [
    "model.summary()"
   ]
  },
  {
   "cell_type": "code",
   "execution_count": 99,
   "metadata": {},
   "outputs": [],
   "source": [
    "### Make some last 20-25b layers as trainable False\n",
    "for layer in model.layers[:-23]:\n",
    "    layer.trainable = False"
   ]
  },
  {
   "cell_type": "markdown",
   "metadata": {},
   "source": [
    "## Train the fine-tuned model"
   ]
  },
  {
   "cell_type": "code",
   "execution_count": 100,
   "metadata": {},
   "outputs": [],
   "source": [
    "model.compile(Adam(lr=0.001), loss='categorical_crossentropy', metrics=['accuracy'])"
   ]
  },
  {
   "cell_type": "code",
   "execution_count": 101,
   "metadata": {},
   "outputs": [
    {
     "name": "stdout",
     "output_type": "stream",
     "text": [
      "Epoch 1/60\n",
      " - 69s - loss: 1.5839 - accuracy: 0.5333 - val_loss: 5.9936 - val_accuracy: 0.2000\n",
      "Epoch 2/60\n",
      " - 28s - loss: 0.5294 - accuracy: 0.8140 - val_loss: 5.8810 - val_accuracy: 0.1333\n",
      "Epoch 3/60\n",
      " - 29s - loss: 0.5119 - accuracy: 0.8333 - val_loss: 5.9113 - val_accuracy: 0.2667\n",
      "Epoch 4/60\n",
      " - 29s - loss: 0.3070 - accuracy: 0.8944 - val_loss: 5.2042 - val_accuracy: 0.4667\n",
      "Epoch 5/60\n",
      " - 29s - loss: 0.3736 - accuracy: 0.8722 - val_loss: 1.8017 - val_accuracy: 0.4333\n",
      "Epoch 6/60\n",
      " - 29s - loss: 0.3366 - accuracy: 0.8833 - val_loss: 0.9217 - val_accuracy: 0.6667\n",
      "Epoch 7/60\n",
      " - 29s - loss: 0.3370 - accuracy: 0.8944 - val_loss: 0.4482 - val_accuracy: 0.8667\n",
      "Epoch 8/60\n",
      " - 29s - loss: 0.1986 - accuracy: 0.9278 - val_loss: 0.3565 - val_accuracy: 0.5667\n",
      "Epoch 9/60\n",
      " - 29s - loss: 0.2113 - accuracy: 0.9444 - val_loss: 1.6689 - val_accuracy: 0.7333\n",
      "Epoch 10/60\n",
      " - 30s - loss: 0.1404 - accuracy: 0.9556 - val_loss: 2.0764 - val_accuracy: 0.7333\n",
      "Epoch 11/60\n",
      " - 29s - loss: 0.0403 - accuracy: 0.9833 - val_loss: 0.3477 - val_accuracy: 0.7333\n",
      "Epoch 12/60\n",
      " - 28s - loss: 0.0783 - accuracy: 0.9667 - val_loss: 0.5447 - val_accuracy: 0.7333\n",
      "Epoch 13/60\n",
      " - 28s - loss: 0.0925 - accuracy: 0.9778 - val_loss: 0.1484 - val_accuracy: 0.9333\n",
      "Epoch 14/60\n",
      " - 28s - loss: 0.0732 - accuracy: 0.9722 - val_loss: 0.5941 - val_accuracy: 0.7000\n",
      "Epoch 15/60\n",
      " - 28s - loss: 0.1756 - accuracy: 0.9389 - val_loss: 0.7181 - val_accuracy: 0.8000\n",
      "Epoch 16/60\n",
      " - 28s - loss: 0.1030 - accuracy: 0.9778 - val_loss: 0.9349 - val_accuracy: 0.7000\n",
      "Epoch 17/60\n",
      " - 28s - loss: 0.0834 - accuracy: 0.9667 - val_loss: 0.1083 - val_accuracy: 0.9333\n",
      "Epoch 18/60\n",
      " - 27s - loss: 0.0889 - accuracy: 0.9709 - val_loss: 0.7621 - val_accuracy: 0.9000\n",
      "Epoch 19/60\n",
      " - 28s - loss: 0.0621 - accuracy: 0.9722 - val_loss: 0.6225 - val_accuracy: 0.7000\n",
      "Epoch 20/60\n",
      " - 29s - loss: 0.0627 - accuracy: 0.9722 - val_loss: 0.8245 - val_accuracy: 0.6000\n",
      "Epoch 21/60\n",
      " - 28s - loss: 0.0417 - accuracy: 0.9833 - val_loss: 4.2292 - val_accuracy: 0.6333\n",
      "Epoch 22/60\n",
      " - 28s - loss: 0.0492 - accuracy: 0.9833 - val_loss: 1.2299 - val_accuracy: 0.7667\n",
      "Epoch 23/60\n",
      " - 27s - loss: 0.0438 - accuracy: 0.9884 - val_loss: 0.4047 - val_accuracy: 0.9000\n",
      "Epoch 24/60\n",
      " - 28s - loss: 0.0672 - accuracy: 0.9833 - val_loss: 0.2493 - val_accuracy: 0.8667\n",
      "Epoch 25/60\n",
      " - 28s - loss: 0.0628 - accuracy: 0.9833 - val_loss: 0.7255 - val_accuracy: 0.7667\n",
      "Epoch 26/60\n",
      " - 28s - loss: 0.0378 - accuracy: 0.9833 - val_loss: 0.1280 - val_accuracy: 0.9000\n",
      "Epoch 27/60\n",
      " - 28s - loss: 0.0818 - accuracy: 0.9667 - val_loss: 0.1155 - val_accuracy: 0.8667\n",
      "Epoch 28/60\n",
      " - 28s - loss: 0.0300 - accuracy: 0.9889 - val_loss: 0.8222 - val_accuracy: 0.8000\n",
      "Epoch 29/60\n",
      " - 29s - loss: 0.0586 - accuracy: 0.9667 - val_loss: 0.0539 - val_accuracy: 0.9000\n",
      "Epoch 30/60\n",
      " - 29s - loss: 0.1134 - accuracy: 0.9611 - val_loss: 0.5333 - val_accuracy: 0.9000\n",
      "Epoch 31/60\n",
      " - 29s - loss: 0.0878 - accuracy: 0.9833 - val_loss: 0.1447 - val_accuracy: 0.8333\n",
      "Epoch 32/60\n",
      " - 29s - loss: 0.0249 - accuracy: 0.9944 - val_loss: 0.1093 - val_accuracy: 1.0000\n",
      "Epoch 33/60\n",
      " - 29s - loss: 0.0136 - accuracy: 1.0000 - val_loss: 0.1397 - val_accuracy: 1.0000\n",
      "Epoch 34/60\n",
      " - 29s - loss: 0.0117 - accuracy: 0.9944 - val_loss: 0.0464 - val_accuracy: 1.0000\n",
      "Epoch 35/60\n",
      " - 29s - loss: 0.0151 - accuracy: 1.0000 - val_loss: 0.0095 - val_accuracy: 0.9667\n",
      "Epoch 36/60\n",
      " - 29s - loss: 0.0334 - accuracy: 0.9944 - val_loss: 0.0831 - val_accuracy: 0.9000\n",
      "Epoch 37/60\n",
      " - 28s - loss: 0.0358 - accuracy: 0.9884 - val_loss: 0.7348 - val_accuracy: 0.8333\n",
      "Epoch 38/60\n",
      " - 29s - loss: 0.0500 - accuracy: 0.9833 - val_loss: 1.0031 - val_accuracy: 0.7667\n",
      "Epoch 39/60\n",
      " - 29s - loss: 0.0318 - accuracy: 0.9944 - val_loss: 0.2433 - val_accuracy: 0.9333\n",
      "Epoch 40/60\n",
      " - 28s - loss: 0.0162 - accuracy: 0.9942 - val_loss: 0.0664 - val_accuracy: 0.8667\n",
      "Epoch 41/60\n",
      " - 29s - loss: 0.0139 - accuracy: 0.9944 - val_loss: 0.3440 - val_accuracy: 0.8667\n",
      "Epoch 42/60\n",
      " - 29s - loss: 0.0943 - accuracy: 0.9833 - val_loss: 0.3753 - val_accuracy: 0.8667\n",
      "Epoch 43/60\n",
      " - 29s - loss: 0.0558 - accuracy: 0.9722 - val_loss: 0.1258 - val_accuracy: 0.9000\n",
      "Epoch 44/60\n",
      " - 29s - loss: 0.0266 - accuracy: 0.9944 - val_loss: 0.4870 - val_accuracy: 0.8333\n",
      "Epoch 45/60\n",
      " - 29s - loss: 0.0512 - accuracy: 0.9833 - val_loss: 0.5247 - val_accuracy: 0.8000\n",
      "Epoch 46/60\n",
      " - 29s - loss: 0.0602 - accuracy: 0.9722 - val_loss: 0.2798 - val_accuracy: 0.8667\n",
      "Epoch 47/60\n",
      " - 29s - loss: 0.0626 - accuracy: 0.9889 - val_loss: 1.2892 - val_accuracy: 0.5333\n",
      "Epoch 48/60\n",
      " - 29s - loss: 0.0453 - accuracy: 0.9889 - val_loss: 4.0718 - val_accuracy: 0.4000\n",
      "Epoch 49/60\n",
      " - 29s - loss: 0.0241 - accuracy: 0.9889 - val_loss: 1.0474 - val_accuracy: 0.6667\n",
      "Epoch 50/60\n",
      " - 28s - loss: 0.0090 - accuracy: 1.0000 - val_loss: 0.3544 - val_accuracy: 0.6667\n",
      "Epoch 51/60\n",
      " - 30s - loss: 0.0078 - accuracy: 1.0000 - val_loss: 0.7632 - val_accuracy: 0.8333\n",
      "Epoch 52/60\n",
      " - 28s - loss: 0.0146 - accuracy: 0.9944 - val_loss: 1.8264 - val_accuracy: 0.7333\n",
      "Epoch 53/60\n",
      " - 28s - loss: 0.0340 - accuracy: 0.9944 - val_loss: 1.8288 - val_accuracy: 0.7333\n",
      "Epoch 54/60\n",
      " - 28s - loss: 0.0129 - accuracy: 0.9944 - val_loss: 0.5573 - val_accuracy: 0.8667\n",
      "Epoch 55/60\n",
      " - 28s - loss: 0.0156 - accuracy: 0.9944 - val_loss: 0.0854 - val_accuracy: 0.9333\n",
      "Epoch 56/60\n",
      " - 28s - loss: 0.0108 - accuracy: 0.9944 - val_loss: 0.1003 - val_accuracy: 0.8667\n",
      "Epoch 57/60\n",
      " - 28s - loss: 0.0521 - accuracy: 0.9778 - val_loss: 0.4363 - val_accuracy: 0.8333\n",
      "Epoch 58/60\n",
      " - 28s - loss: 0.0285 - accuracy: 0.9944 - val_loss: 1.1882 - val_accuracy: 0.6000\n",
      "Epoch 59/60\n",
      " - 28s - loss: 0.1408 - accuracy: 0.9556 - val_loss: 1.3399 - val_accuracy: 0.5333\n",
      "Epoch 60/60\n",
      " - 28s - loss: 0.0755 - accuracy: 0.9667 - val_loss: 1.7033 - val_accuracy: 0.4667\n"
     ]
    },
    {
     "data": {
      "text/plain": [
       "<keras.callbacks.callbacks.History at 0x184a9d86a48>"
      ]
     },
     "execution_count": 101,
     "metadata": {},
     "output_type": "execute_result"
    }
   ],
   "source": [
    "model.fit_generator(train_batches, \n",
    "                    steps_per_epoch=18,\n",
    "                    validation_data=valid_batches,\n",
    "                    validation_steps=3,\n",
    "                    epochs=60, verbose=2)"
   ]
  },
  {
   "cell_type": "markdown",
   "metadata": {},
   "source": [
    "### Model Evaluations"
   ]
  },
  {
   "cell_type": "code",
   "execution_count": 103,
   "metadata": {},
   "outputs": [
    {
     "data": {
      "text/html": [
       "<div>\n",
       "<style scoped>\n",
       "    .dataframe tbody tr th:only-of-type {\n",
       "        vertical-align: middle;\n",
       "    }\n",
       "\n",
       "    .dataframe tbody tr th {\n",
       "        vertical-align: top;\n",
       "    }\n",
       "\n",
       "    .dataframe thead th {\n",
       "        text-align: right;\n",
       "    }\n",
       "</style>\n",
       "<table border=\"1\" class=\"dataframe\">\n",
       "  <thead>\n",
       "    <tr style=\"text-align: right;\">\n",
       "      <th></th>\n",
       "      <th>val_loss</th>\n",
       "      <th>val_accuracy</th>\n",
       "      <th>loss</th>\n",
       "      <th>accuracy</th>\n",
       "    </tr>\n",
       "  </thead>\n",
       "  <tbody>\n",
       "    <tr>\n",
       "      <th>0</th>\n",
       "      <td>5.993554</td>\n",
       "      <td>0.200000</td>\n",
       "      <td>1.583921</td>\n",
       "      <td>0.533333</td>\n",
       "    </tr>\n",
       "    <tr>\n",
       "      <th>1</th>\n",
       "      <td>5.881024</td>\n",
       "      <td>0.133333</td>\n",
       "      <td>0.552042</td>\n",
       "      <td>0.813953</td>\n",
       "    </tr>\n",
       "    <tr>\n",
       "      <th>2</th>\n",
       "      <td>5.911334</td>\n",
       "      <td>0.266667</td>\n",
       "      <td>0.511907</td>\n",
       "      <td>0.833333</td>\n",
       "    </tr>\n",
       "    <tr>\n",
       "      <th>3</th>\n",
       "      <td>5.204234</td>\n",
       "      <td>0.466667</td>\n",
       "      <td>0.307016</td>\n",
       "      <td>0.894444</td>\n",
       "    </tr>\n",
       "    <tr>\n",
       "      <th>4</th>\n",
       "      <td>1.801698</td>\n",
       "      <td>0.433333</td>\n",
       "      <td>0.373568</td>\n",
       "      <td>0.872222</td>\n",
       "    </tr>\n",
       "  </tbody>\n",
       "</table>\n",
       "</div>"
      ],
      "text/plain": [
       "   val_loss  val_accuracy      loss  accuracy\n",
       "0  5.993554      0.200000  1.583921  0.533333\n",
       "1  5.881024      0.133333  0.552042  0.813953\n",
       "2  5.911334      0.266667  0.511907  0.833333\n",
       "3  5.204234      0.466667  0.307016  0.894444\n",
       "4  1.801698      0.433333  0.373568  0.872222"
      ]
     },
     "execution_count": 103,
     "metadata": {},
     "output_type": "execute_result"
    }
   ],
   "source": [
    "model_loss = pd.DataFrame(model.history.history)\n",
    "model_loss.head()"
   ]
  },
  {
   "cell_type": "code",
   "execution_count": 104,
   "metadata": {},
   "outputs": [
    {
     "data": {
      "text/plain": [
       "<matplotlib.axes._subplots.AxesSubplot at 0x184a9ef06c8>"
      ]
     },
     "execution_count": 104,
     "metadata": {},
     "output_type": "execute_result"
    },
    {
     "data": {
      "image/png": "[encoded data removed]",
      "text/plain": [
       "<Figure size 432x288 with 1 Axes>"
      ]
     },
     "metadata": {
      "needs_background": "light"
     },
     "output_type": "display_data"
    }
   ],
   "source": [
    "model_loss[['loss','val_loss']].plot()"
   ]
  },
  {
   "cell_type": "code",
   "execution_count": 105,
   "metadata": {},
   "outputs": [
    {
     "data": {
      "text/plain": [
       "<matplotlib.axes._subplots.AxesSubplot at 0x184a57153c8>"
      ]
     },
     "execution_count": 105,
     "metadata": {},
     "output_type": "execute_result"
    },
    {
     "data": {
      "image/png": "[encoded data removed]",
      "text/plain": [
       "<Figure size 432x288 with 1 Axes>"
      ]
     },
     "metadata": {
      "needs_background": "light"
     },
     "output_type": "display_data"
    }
   ],
   "source": [
    "model_loss[['accuracy','val_accuracy']].plot()"
   ]
  },
  {
   "cell_type": "markdown",
   "metadata": {},
   "source": [
    "## Predict sign language digits"
   ]
  },
  {
   "cell_type": "code",
   "execution_count": 106,
   "metadata": {},
   "outputs": [],
   "source": [
    "test_labels = test_batches.classes"
   ]
  },
  {
   "cell_type": "code",
   "execution_count": 111,
   "metadata": {},
   "outputs": [
    {
     "data": {
      "text/plain": [
       "{'0': 0,\n",
       " '1': 1,\n",
       " '2': 2,\n",
       " '3': 3,\n",
       " '4': 4,\n",
       " '5': 5,\n",
       " '6': 6,\n",
       " '7': 7,\n",
       " '8': 8,\n",
       " '9': 9}"
      ]
     },
     "execution_count": 111,
     "metadata": {},
     "output_type": "execute_result"
    }
   ],
   "source": [
    "#Classes\n",
    "test_batches.class_indices"
   ]
  },
  {
   "cell_type": "code",
   "execution_count": 107,
   "metadata": {},
   "outputs": [],
   "source": [
    "predictions = model.predict_generator(test_batches, steps=5, verbose=0)"
   ]
  },
  {
   "cell_type": "code",
   "execution_count": 110,
   "metadata": {},
   "outputs": [],
   "source": [
    "cm = confusion_matrix(test_labels, predictions.argmax(axis=1))"
   ]
  },
  {
   "cell_type": "markdown",
   "metadata": {},
   "source": [
    "#### confusion_matrix plot function from sklearn"
   ]
  },
  {
   "cell_type": "code",
   "execution_count": 113,
   "metadata": {},
   "outputs": [],
   "source": [
    "def plot_confusion_matrix(cm, classes,\n",
    "                          normalize=False,\n",
    "                          title='Confusion matrix',\n",
    "                          cmap=plt.cm.Blues):\n",
    "    \"\"\"\n",
    "    This function prints and plots the confusion matrix.\n",
    "    Normalization can be applied by setting `normalize=True`.\n",
    "    \"\"\"\n",
    "    plt.imshow(cm, interpolation='nearest', cmap=cmap)\n",
    "    plt.title(title)\n",
    "    plt.colorbar()\n",
    "    tick_marks = np.arange(len(classes))\n",
    "    plt.xticks(tick_marks, classes, rotation=45)\n",
    "    plt.yticks(tick_marks, classes)\n",
    "\n",
    "    if normalize:\n",
    "        cm = cm.astype('float') / cm.sum(axis=1)[:, np.newaxis]\n",
    "        print(\"Normalized confusion matrix\")\n",
    "    else:\n",
    "        print('Confusion matrix, without normalization')\n",
    "\n",
    "    print(cm)\n",
    "\n",
    "    thresh = cm.max() / 2.\n",
    "    for i, j in itertools.product(range(cm.shape[0]), range(cm.shape[1])):\n",
    "        plt.text(j, i, cm[i, j],\n",
    "                 horizontalalignment=\"center\",\n",
    "                 color=\"white\" if cm[i, j] > thresh else \"black\")\n",
    "\n",
    "    plt.tight_layout()\n",
    "    plt.ylabel('True label')\n",
    "    plt.xlabel('Predicted label')"
   ]
  },
  {
   "cell_type": "code",
   "execution_count": 114,
   "metadata": {},
   "outputs": [
    {
     "name": "stdout",
     "output_type": "stream",
     "text": [
      "Confusion matrix, without normalization\n",
      "[[5 0 0 0 0 0 0 0 0 0]\n",
      " [0 5 0 0 0 0 0 0 0 0]\n",
      " [0 0 5 0 0 0 0 0 0 0]\n",
      " [0 0 0 5 0 0 0 0 0 0]\n",
      " [0 0 0 0 1 2 0 0 0 2]\n",
      " [0 0 0 0 0 5 0 0 0 0]\n",
      " [0 0 2 0 0 0 3 0 0 0]\n",
      " [0 0 0 1 0 0 0 4 0 0]\n",
      " [0 0 1 0 0 2 0 1 0 1]\n",
      " [0 0 0 0 0 0 0 0 0 5]]\n"
     ]
    },
    {
     "data": {
      "image/png": "[encoded data removed]",
      "text/plain": [
       "<Figure size 432x288 with 2 Axes>"
      ]
     },
     "metadata": {
      "needs_background": "light"
     },
     "output_type": "display_data"
    }
   ],
   "source": [
    "cm_plot_lables = ['0', '1', '2', '3', '4', '5', '6', '7', '8', '9']\n",
    "plot_confusion_matrix(cm, cm_plot_lables, title='Confusion Matrix')"
   ]
  },
  {
   "cell_type": "code",
   "execution_count": 117,
   "metadata": {},
   "outputs": [
    {
     "name": "stdout",
     "output_type": "stream",
     "text": [
      "              precision    recall  f1-score   support\n",
      "\n",
      "           0       1.00      1.00      1.00         5\n",
      "           1       1.00      1.00      1.00         5\n",
      "           2       0.62      1.00      0.77         5\n",
      "           3       0.83      1.00      0.91         5\n",
      "           4       1.00      0.20      0.33         5\n",
      "           5       0.56      1.00      0.71         5\n",
      "           6       1.00      0.60      0.75         5\n",
      "           7       0.80      0.80      0.80         5\n",
      "           8       0.00      0.00      0.00         5\n",
      "           9       0.62      1.00      0.77         5\n",
      "\n",
      "    accuracy                           0.76        50\n",
      "   macro avg       0.74      0.76      0.70        50\n",
      "weighted avg       0.74      0.76      0.70        50\n",
      "\n"
     ]
    },
    {
     "name": "stderr",
     "output_type": "stream",
     "text": [
      "E:\\Anaconda Program Data\\Program Data\\lib\\site-packages\\sklearn\\metrics\\_classification.py:1272: UndefinedMetricWarning: Precision and F-score are ill-defined and being set to 0.0 in labels with no predicted samples. Use `zero_division` parameter to control this behavior.\n",
      "  _warn_prf(average, modifier, msg_start, len(result))\n"
     ]
    }
   ],
   "source": [
    "from sklearn.metrics import classification_report\n",
    "print(classification_report(test_labels, predictions.argmax(axis=1)))"
   ]
  },
  {
   "cell_type": "markdown",
   "metadata": {},
   "source": [
    "**From above report we can see prediction of digit 4 and 8 is bad rate of accuracy.**\n",
    "\n",
    "**Need some regularization for prediction with good accuracy for single digit**"
   ]
  },
  {
   "cell_type": "code",
   "execution_count": 118,
   "metadata": {},
   "outputs": [],
   "source": [
    "### Save the model\n",
    "model.save('sign-language-digits-predictor.h5')"
   ]
  },
  {
   "cell_type": "code",
   "execution_count": null,
   "metadata": {},
   "outputs": [],
   "source": []
  }
 ],
 "metadata": {
  "kernelspec": {
   "display_name": "Python 3",
   "language": "python",
   "name": "python3"
  },
  "language_info": {
   "codemirror_mode": {
    "name": "ipython",
    "version": 3
   },
   "file_extension": ".py",
   "mimetype": "text/x-python",
   "name": "python",
   "nbconvert_exporter": "python",
   "pygments_lexer": "ipython3",
   "version": "3.7.6"
  }
 },
 "nbformat": 4,
 "nbformat_minor": 4
}
